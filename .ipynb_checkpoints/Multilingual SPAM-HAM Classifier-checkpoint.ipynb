{
 "cells": [
  {
   "cell_type": "code",
   "execution_count": 158,
   "metadata": {},
   "outputs": [],
   "source": [
    "import pandas as pd\n",
    "import seaborn as sns\n",
    "import re\n",
    "import matplotlib.pyplot as plt"
   ]
  },
  {
   "cell_type": "markdown",
   "metadata": {},
   "source": [
    "## Reading the data"
   ]
  },
  {
   "cell_type": "code",
   "execution_count": 3,
   "metadata": {},
   "outputs": [],
   "source": [
    "df=pd.read_csv(\"data\",sep='\\t',names=[\"Label\",\"Message\"])"
   ]
  },
  {
   "cell_type": "markdown",
   "metadata": {},
   "source": [
    "### Exploring the data "
   ]
  },
  {
   "cell_type": "code",
   "execution_count": 8,
   "metadata": {},
   "outputs": [
    {
     "data": {
      "text/html": [
       "<div>\n",
       "<style scoped>\n",
       "    .dataframe tbody tr th:only-of-type {\n",
       "        vertical-align: middle;\n",
       "    }\n",
       "\n",
       "    .dataframe tbody tr th {\n",
       "        vertical-align: top;\n",
       "    }\n",
       "\n",
       "    .dataframe thead th {\n",
       "        text-align: right;\n",
       "    }\n",
       "</style>\n",
       "<table border=\"1\" class=\"dataframe\">\n",
       "  <thead>\n",
       "    <tr style=\"text-align: right;\">\n",
       "      <th></th>\n",
       "      <th>Label</th>\n",
       "      <th>Message</th>\n",
       "    </tr>\n",
       "  </thead>\n",
       "  <tbody>\n",
       "    <tr>\n",
       "      <th>0</th>\n",
       "      <td>ham</td>\n",
       "      <td>Go until jurong point, crazy.. Available only ...</td>\n",
       "    </tr>\n",
       "    <tr>\n",
       "      <th>1</th>\n",
       "      <td>ham</td>\n",
       "      <td>Ok lar... Joking wif u oni...</td>\n",
       "    </tr>\n",
       "    <tr>\n",
       "      <th>2</th>\n",
       "      <td>spam</td>\n",
       "      <td>Free entry in 2 a wkly comp to win FA Cup fina...</td>\n",
       "    </tr>\n",
       "    <tr>\n",
       "      <th>3</th>\n",
       "      <td>ham</td>\n",
       "      <td>U dun say so early hor... U c already then say...</td>\n",
       "    </tr>\n",
       "    <tr>\n",
       "      <th>4</th>\n",
       "      <td>ham</td>\n",
       "      <td>Nah I don't think he goes to usf, he lives aro...</td>\n",
       "    </tr>\n",
       "  </tbody>\n",
       "</table>\n",
       "</div>"
      ],
      "text/plain": [
       "  Label                                            Message\n",
       "0   ham  Go until jurong point, crazy.. Available only ...\n",
       "1   ham                      Ok lar... Joking wif u oni...\n",
       "2  spam  Free entry in 2 a wkly comp to win FA Cup fina...\n",
       "3   ham  U dun say so early hor... U c already then say...\n",
       "4   ham  Nah I don't think he goes to usf, he lives aro..."
      ]
     },
     "execution_count": 8,
     "metadata": {},
     "output_type": "execute_result"
    }
   ],
   "source": [
    "df.head()"
   ]
  },
  {
   "cell_type": "code",
   "execution_count": 10,
   "metadata": {},
   "outputs": [
    {
     "data": {
      "text/plain": [
       "array(['ham', 'spam'], dtype=object)"
      ]
     },
     "execution_count": 10,
     "metadata": {},
     "output_type": "execute_result"
    }
   ],
   "source": [
    "df.Label.unique() "
   ]
  },
  {
   "cell_type": "code",
   "execution_count": 208,
   "metadata": {},
   "outputs": [
    {
     "data": {
      "text/plain": [
       "Label      0\n",
       "Message    0\n",
       "dtype: int64"
      ]
     },
     "execution_count": 208,
     "metadata": {},
     "output_type": "execute_result"
    }
   ],
   "source": [
    "df.isnull().sum() ## checking for null values "
   ]
  },
  {
   "cell_type": "code",
   "execution_count": 34,
   "metadata": {},
   "outputs": [
    {
     "data": {
      "text/plain": [
       "<matplotlib.axes._subplots.AxesSubplot at 0x1a5ba69cd30>"
      ]
     },
     "execution_count": 34,
     "metadata": {},
     "output_type": "execute_result"
    },
    {
     "data": {
      "image/png": "[encoded data removed]",
      "text/plain": [
       "<Figure size 432x288 with 1 Axes>"
      ]
     },
     "metadata": {},
     "output_type": "display_data"
    }
   ],
   "source": [
    "sns.set_style('whitegrid')\n",
    "sns.countplot(x='Label',data=df)"
   ]
  },
  {
   "cell_type": "markdown",
   "metadata": {},
   "source": [
    "### Preprocessing the data "
   ]
  },
  {
   "cell_type": "code",
   "execution_count": 80,
   "metadata": {},
   "outputs": [],
   "source": [
    "def preprocessing(text):\n",
    "    \"\"\"Changing text to lowercase ,removing extra spaces and cleaning the text.\n",
    "    \"\"\"\n",
    "    text= text.lower().strip() \n",
    "    \n",
    "    text=re.sub('[^a-zA-Z]',' ',text)\n",
    "    \n",
    "    text=re.sub(' +', ' ', text)\n",
    "    return text"
   ]
  },
  {
   "cell_type": "code",
   "execution_count": 85,
   "metadata": {},
   "outputs": [],
   "source": [
    "df['Message']=df['Message'].apply(preprocessing)"
   ]
  },
  {
   "cell_type": "code",
   "execution_count": 88,
   "metadata": {},
   "outputs": [
    {
     "data": {
      "text/html": [
       "<div>\n",
       "<style scoped>\n",
       "    .dataframe tbody tr th:only-of-type {\n",
       "        vertical-align: middle;\n",
       "    }\n",
       "\n",
       "    .dataframe tbody tr th {\n",
       "        vertical-align: top;\n",
       "    }\n",
       "\n",
       "    .dataframe thead th {\n",
       "        text-align: right;\n",
       "    }\n",
       "</style>\n",
       "<table border=\"1\" class=\"dataframe\">\n",
       "  <thead>\n",
       "    <tr style=\"text-align: right;\">\n",
       "      <th></th>\n",
       "      <th>Label</th>\n",
       "      <th>Message</th>\n",
       "    </tr>\n",
       "  </thead>\n",
       "  <tbody>\n",
       "    <tr>\n",
       "      <th>0</th>\n",
       "      <td>ham</td>\n",
       "      <td>go until jurong point crazy available only in ...</td>\n",
       "    </tr>\n",
       "    <tr>\n",
       "      <th>1</th>\n",
       "      <td>ham</td>\n",
       "      <td>ok lar joking wif u oni</td>\n",
       "    </tr>\n",
       "    <tr>\n",
       "      <th>2</th>\n",
       "      <td>spam</td>\n",
       "      <td>free entry in a wkly comp to win fa cup final ...</td>\n",
       "    </tr>\n",
       "    <tr>\n",
       "      <th>3</th>\n",
       "      <td>ham</td>\n",
       "      <td>u dun say so early hor u c already then say</td>\n",
       "    </tr>\n",
       "    <tr>\n",
       "      <th>4</th>\n",
       "      <td>ham</td>\n",
       "      <td>nah i don t think he goes to usf he lives arou...</td>\n",
       "    </tr>\n",
       "  </tbody>\n",
       "</table>\n",
       "</div>"
      ],
      "text/plain": [
       "  Label                                            Message\n",
       "0   ham  go until jurong point crazy available only in ...\n",
       "1   ham                           ok lar joking wif u oni \n",
       "2  spam  free entry in a wkly comp to win fa cup final ...\n",
       "3   ham       u dun say so early hor u c already then say \n",
       "4   ham  nah i don t think he goes to usf he lives arou..."
      ]
     },
     "execution_count": 88,
     "metadata": {},
     "output_type": "execute_result"
    }
   ],
   "source": [
    "df.head()"
   ]
  },
  {
   "cell_type": "code",
   "execution_count": 96,
   "metadata": {},
   "outputs": [],
   "source": [
    "## Encoding 0 for ham and 1 for Spam"
   ]
  },
  {
   "cell_type": "code",
   "execution_count": 90,
   "metadata": {},
   "outputs": [],
   "source": [
    "from sklearn.preprocessing import LabelEncoder"
   ]
  },
  {
   "cell_type": "code",
   "execution_count": 91,
   "metadata": {},
   "outputs": [
    {
     "data": {
      "text/plain": [
       "LabelEncoder()"
      ]
     },
     "execution_count": 91,
     "metadata": {},
     "output_type": "execute_result"
    }
   ],
   "source": [
    "LE=LabelEncoder()\n",
    "LE.fit(df[\"Label\"])"
   ]
  },
  {
   "cell_type": "code",
   "execution_count": 94,
   "metadata": {},
   "outputs": [],
   "source": [
    "df[\"Label\"]=LE.transform(df[\"Label\"])"
   ]
  },
  {
   "cell_type": "code",
   "execution_count": 97,
   "metadata": {},
   "outputs": [
    {
     "data": {
      "text/html": [
       "<div>\n",
       "<style scoped>\n",
       "    .dataframe tbody tr th:only-of-type {\n",
       "        vertical-align: middle;\n",
       "    }\n",
       "\n",
       "    .dataframe tbody tr th {\n",
       "        vertical-align: top;\n",
       "    }\n",
       "\n",
       "    .dataframe thead th {\n",
       "        text-align: right;\n",
       "    }\n",
       "</style>\n",
       "<table border=\"1\" class=\"dataframe\">\n",
       "  <thead>\n",
       "    <tr style=\"text-align: right;\">\n",
       "      <th></th>\n",
       "      <th>Label</th>\n",
       "      <th>Message</th>\n",
       "    </tr>\n",
       "  </thead>\n",
       "  <tbody>\n",
       "    <tr>\n",
       "      <th>0</th>\n",
       "      <td>0</td>\n",
       "      <td>go until jurong point crazy available only in ...</td>\n",
       "    </tr>\n",
       "    <tr>\n",
       "      <th>1</th>\n",
       "      <td>0</td>\n",
       "      <td>ok lar joking wif u oni</td>\n",
       "    </tr>\n",
       "    <tr>\n",
       "      <th>2</th>\n",
       "      <td>1</td>\n",
       "      <td>free entry in a wkly comp to win fa cup final ...</td>\n",
       "    </tr>\n",
       "    <tr>\n",
       "      <th>3</th>\n",
       "      <td>0</td>\n",
       "      <td>u dun say so early hor u c already then say</td>\n",
       "    </tr>\n",
       "    <tr>\n",
       "      <th>4</th>\n",
       "      <td>0</td>\n",
       "      <td>nah i don t think he goes to usf he lives arou...</td>\n",
       "    </tr>\n",
       "    <tr>\n",
       "      <th>...</th>\n",
       "      <td>...</td>\n",
       "      <td>...</td>\n",
       "    </tr>\n",
       "    <tr>\n",
       "      <th>5567</th>\n",
       "      <td>1</td>\n",
       "      <td>this is the nd time we have tried contact u u ...</td>\n",
       "    </tr>\n",
       "    <tr>\n",
       "      <th>5568</th>\n",
       "      <td>0</td>\n",
       "      <td>will b going to esplanade fr home</td>\n",
       "    </tr>\n",
       "    <tr>\n",
       "      <th>5569</th>\n",
       "      <td>0</td>\n",
       "      <td>pity was in mood for that so any other suggest...</td>\n",
       "    </tr>\n",
       "    <tr>\n",
       "      <th>5570</th>\n",
       "      <td>0</td>\n",
       "      <td>the guy did some bitching but i acted like i d...</td>\n",
       "    </tr>\n",
       "    <tr>\n",
       "      <th>5571</th>\n",
       "      <td>0</td>\n",
       "      <td>rofl its true to its name</td>\n",
       "    </tr>\n",
       "  </tbody>\n",
       "</table>\n",
       "<p>5572 rows × 2 columns</p>\n",
       "</div>"
      ],
      "text/plain": [
       "      Label                                            Message\n",
       "0         0  go until jurong point crazy available only in ...\n",
       "1         0                           ok lar joking wif u oni \n",
       "2         1  free entry in a wkly comp to win fa cup final ...\n",
       "3         0       u dun say so early hor u c already then say \n",
       "4         0  nah i don t think he goes to usf he lives arou...\n",
       "...     ...                                                ...\n",
       "5567      1  this is the nd time we have tried contact u u ...\n",
       "5568      0                 will b going to esplanade fr home \n",
       "5569      0  pity was in mood for that so any other suggest...\n",
       "5570      0  the guy did some bitching but i acted like i d...\n",
       "5571      0                          rofl its true to its name\n",
       "\n",
       "[5572 rows x 2 columns]"
      ]
     },
     "execution_count": 97,
     "metadata": {},
     "output_type": "execute_result"
    }
   ],
   "source": [
    "df"
   ]
  },
  {
   "cell_type": "code",
   "execution_count": 98,
   "metadata": {},
   "outputs": [
    {
     "data": {
      "text/plain": [
       "<matplotlib.axes._subplots.AxesSubplot at 0x1a5baa921d0>"
      ]
     },
     "execution_count": 98,
     "metadata": {},
     "output_type": "execute_result"
    },
    {
     "data": {
      "image/png": "[encoded data removed]",
      "text/plain": [
       "<Figure size 432x288 with 1 Axes>"
      ]
     },
     "metadata": {},
     "output_type": "display_data"
    }
   ],
   "source": [
    "sns.set_style('whitegrid')\n",
    "sns.countplot(x='Label',data=df)"
   ]
  },
  {
   "cell_type": "markdown",
   "metadata": {},
   "source": [
    "### Converting messages to Embeddings"
   ]
  },
  {
   "cell_type": "code",
   "execution_count": 1,
   "metadata": {},
   "outputs": [],
   "source": [
    "#  We could have used Tradition embeddings schmes like TFIDF or Bag of words but in that our model will only support only 1 language.\n",
    "#  We are going to use multilingual model.Multilingual model is basically a pretrained deep neural network model which produces same vectors\n",
    "#  for similar meaning of text in different languages. \n",
    "## We can use any multilingual sentence embedder like tensorfow's Unisversal Sentence Enbedder or ker."
   ]
  },
  {
   "cell_type": "code",
   "execution_count": 193,
   "metadata": {},
   "outputs": [],
   "source": [
    "# How a multilimgual model works?\n",
    "# One common approach is to turn any incoming language into a language-agnostic vector in a space,\n",
    "# where all languages for the same input would point to the same area. \n",
    "# That is to say, any incoming phrases with the same meaning would map to the same area in latent space.\n",
    "# Multilingual Embeddings explained  -->https://www.youtube.com/watch?v=uP6k7ZTuaoI"
   ]
  },
  {
   "cell_type": "code",
   "execution_count": null,
   "metadata": {},
   "outputs": [],
   "source": [
    "# sentence_transformers provides multilingual sentence embedding models for the following languges:\n",
    "# Arabic, Chinese, Dutch, English, French, German, Italian, Korean, Polish, Portuguese, Russian, Spanish, Turkish.\n",
    "#  link for model https://github.com/UKPLab/sentence-transformers/blob/master/docs/pretrained-models/multilingual-models.md"
   ]
  },
  {
   "cell_type": "code",
   "execution_count": 102,
   "metadata": {},
   "outputs": [],
   "source": [
    "from sentence_transformers import SentenceTransformer"
   ]
  },
  {
   "cell_type": "code",
   "execution_count": 105,
   "metadata": {},
   "outputs": [],
   "source": [
    "Encoder = SentenceTransformer('distiluse-base-multilingual-cased') # import the same model"
   ]
  },
  {
   "cell_type": "code",
   "execution_count": 195,
   "metadata": {},
   "outputs": [],
   "source": [
    "embeddings=Encoder.encode(df[\"Message\"]) # Encode text into vectors "
   ]
  },
  {
   "cell_type": "code",
   "execution_count": 111,
   "metadata": {},
   "outputs": [
    {
     "data": {
      "text/plain": [
       "5572"
      ]
     },
     "execution_count": 111,
     "metadata": {},
     "output_type": "execute_result"
    }
   ],
   "source": [
    "len(embeddings)"
   ]
  },
  {
   "cell_type": "code",
   "execution_count": 126,
   "metadata": {},
   "outputs": [
    {
     "data": {
      "text/plain": [
       "array([ 7.10190088e-02, -3.65180410e-02, -5.85367263e-04, -9.86820832e-03,\n",
       "        3.75818685e-02, -5.61738312e-02, -8.53606500e-03,  6.32724492e-03,\n",
       "        3.41476239e-02,  2.84873117e-02, -1.44444872e-02,  3.87810692e-02,\n",
       "        1.30251059e-02,  4.19219695e-02,  1.60155836e-02, -4.72075008e-02,\n",
       "        4.20365110e-02,  1.96884423e-02, -1.92395411e-04, -4.39579375e-02,\n",
       "       -3.83087657e-02, -5.19170891e-03, -7.14668632e-02, -2.63324752e-02,\n",
       "        5.23170903e-02, -2.49114968e-02, -2.11825762e-02,  6.47861660e-02,\n",
       "       -5.13798324e-03, -1.66555885e-02,  3.36918943e-02,  2.75700055e-02,\n",
       "       -4.66383668e-03, -2.40476225e-02,  1.26287909e-02, -6.72872439e-02,\n",
       "        2.87635140e-02,  3.97276878e-02, -4.53051440e-02,  2.89400108e-02,\n",
       "       -3.44491117e-02,  1.78153627e-02,  5.15714064e-02,  3.22138406e-02,\n",
       "        9.59002674e-02,  5.84095391e-03,  1.30946636e-02, -6.10704860e-03,\n",
       "       -4.39988077e-02, -7.63230026e-03,  3.50430720e-02,  3.28807090e-03,\n",
       "        9.53786727e-03,  2.15840917e-02,  2.56885048e-02,  2.99302749e-02,\n",
       "       -3.68305147e-02,  1.08053870e-02, -1.78367980e-02,  8.88928771e-03,\n",
       "        2.61216071e-02, -5.46367876e-02,  2.46599801e-02, -5.62163861e-03,\n",
       "        5.85951358e-02,  2.77449228e-02, -3.31185833e-02, -6.74561635e-02,\n",
       "        6.87072892e-03,  2.41108891e-02, -1.69281773e-02,  2.52764020e-02,\n",
       "        1.26722753e-02,  7.81701598e-03, -1.53992688e-02,  7.46358112e-02,\n",
       "       -3.05651296e-02,  2.70719696e-02, -8.80693551e-06,  1.56873558e-02,\n",
       "        7.24267140e-02, -1.06401943e-01,  3.15096863e-02, -1.74298380e-02,\n",
       "       -4.60129306e-02, -1.79770924e-02,  1.34647945e-02,  2.51891743e-02,\n",
       "        1.56167680e-02, -1.05281193e-02, -3.00767198e-02, -4.03310657e-02,\n",
       "       -9.44199860e-02, -2.55262852e-02, -6.14597574e-02, -9.81783718e-02,\n",
       "       -2.87977047e-02,  3.91610451e-02, -7.91359320e-03,  7.68757537e-02,\n",
       "        6.52855309e-03,  1.39385564e-02,  3.70013639e-02, -5.22865076e-03,\n",
       "       -3.80288027e-02, -1.77198146e-02,  6.85862377e-02, -3.04446090e-02,\n",
       "        6.25892654e-02, -3.04648168e-02,  9.94878355e-03,  6.70497417e-02,\n",
       "       -2.28570849e-02,  4.62414511e-02,  3.21636572e-02,  7.46674719e-04,\n",
       "        3.26815210e-02,  5.41678108e-02,  1.00859255e-01,  4.56554294e-02,\n",
       "       -3.88193056e-02, -8.05290416e-02, -2.32116189e-02, -4.10917364e-02,\n",
       "       -6.68511819e-03, -6.25480264e-02, -3.54039818e-02, -2.78818402e-02,\n",
       "       -5.25515489e-02, -4.39810753e-02, -6.96077896e-03,  3.96167068e-03,\n",
       "        9.00707021e-03,  8.60245433e-03, -6.21786453e-02,  1.31801236e-02,\n",
       "       -2.20023259e-03, -1.76239759e-02, -1.97180286e-02, -3.82814370e-02,\n",
       "       -4.16115895e-02, -2.40297429e-02, -1.16221830e-02,  2.40247361e-02,\n",
       "        3.77494469e-02, -1.35932351e-02, -1.14684133e-03,  2.01787800e-04,\n",
       "       -2.34895367e-02,  5.23941927e-02, -7.28011224e-03,  7.72908628e-02,\n",
       "       -2.86228936e-02,  3.59684080e-02, -1.78185347e-02,  1.66950319e-02,\n",
       "        4.76537719e-02,  3.00733801e-02,  5.60468547e-02,  1.89536940e-02,\n",
       "        5.42729720e-02, -4.73339632e-02, -9.66318026e-02,  5.78949274e-03,\n",
       "        4.21351269e-02, -4.47742343e-02, -4.92674820e-02,  1.49068646e-02,\n",
       "       -5.10998368e-02, -1.28433362e-01, -7.58111402e-02,  4.48478526e-03,\n",
       "        1.02684990e-01, -1.13496527e-01, -4.48591076e-02, -2.76669227e-02,\n",
       "        2.34221797e-02, -1.31894939e-03, -6.06535226e-02,  9.41062346e-03,\n",
       "       -7.71354465e-03, -5.99655975e-03, -1.02454666e-02,  3.84962885e-03,\n",
       "        2.01648194e-03,  5.57699613e-02,  1.44270144e-03, -4.51328829e-02,\n",
       "        8.16522613e-02,  1.26725156e-02, -2.02435479e-02, -1.71923582e-02,\n",
       "       -2.47464404e-02,  6.36770530e-03,  2.99570188e-02, -2.03639362e-03,\n",
       "        7.11924024e-03,  1.57626923e-02,  5.22451326e-02,  3.62875275e-02,\n",
       "       -3.35231004e-03, -6.78481683e-02, -7.78320208e-02,  1.73823945e-02,\n",
       "        1.69941373e-02, -1.49638401e-02, -4.00912948e-02,  6.43445062e-04,\n",
       "       -3.95018272e-02, -5.48018031e-02,  2.36543808e-02, -2.33096424e-02,\n",
       "        4.31725644e-02,  6.47111889e-03,  2.60187536e-02,  2.55880151e-02,\n",
       "       -6.30570054e-02,  3.25016491e-02, -1.22986091e-02,  9.18380395e-02,\n",
       "        4.75789346e-02, -5.62575236e-02, -3.82488333e-02, -1.41786374e-02,\n",
       "       -4.53212447e-02, -7.50732869e-02, -1.30511448e-02,  2.44357940e-02,\n",
       "       -5.39679825e-02, -2.99372412e-02,  4.31085899e-02,  4.75816578e-02,\n",
       "        1.12406556e-02, -6.25541732e-02,  1.54530359e-02, -2.24598944e-02,\n",
       "        2.20705252e-02, -4.35098894e-02, -4.83864313e-03, -5.54095507e-02,\n",
       "        2.20872331e-02, -3.61659899e-02,  2.27863006e-02, -1.60462838e-02,\n",
       "        3.09956190e-03,  3.86971943e-02,  2.24855030e-03, -1.10924374e-02,\n",
       "       -2.23500635e-02,  8.78538862e-02, -1.37035009e-02,  9.13538691e-03,\n",
       "       -9.35873855e-03, -2.70766988e-02, -9.16176755e-03, -3.52496132e-02,\n",
       "       -2.18846439e-03,  1.82481781e-02, -1.43378414e-03, -2.83770617e-02,\n",
       "       -3.84384990e-02,  5.47957085e-02, -2.41186619e-02,  6.23060437e-03,\n",
       "        5.21392934e-02,  6.97037391e-03,  2.13386249e-02,  2.75585391e-02,\n",
       "       -1.05053503e-02,  8.05074722e-03, -2.82779578e-02, -3.55682820e-02,\n",
       "        7.11052343e-02,  2.28617527e-02,  2.73744483e-02, -1.30185415e-03,\n",
       "       -6.33215532e-05, -3.73558179e-02,  4.61201295e-02,  1.78803448e-02,\n",
       "       -2.84089316e-02,  3.51570407e-03, -2.42682006e-02,  4.54264833e-03,\n",
       "       -2.81840544e-02,  1.08963745e-02,  3.15527022e-02,  2.90524680e-02,\n",
       "       -1.39439274e-02, -3.39560881e-02, -4.62477133e-02, -4.16832902e-02,\n",
       "        1.45497359e-02,  3.87184657e-02,  2.21870337e-02,  1.78120062e-02,\n",
       "        3.65832373e-02,  4.42567728e-02,  2.21265238e-02, -1.94332022e-02,\n",
       "       -7.43497014e-02, -7.07979780e-03,  3.65742296e-03, -1.99524797e-02,\n",
       "       -3.45462486e-02, -6.41956255e-02, -2.44369693e-02,  8.09825584e-03,\n",
       "       -1.32999271e-02,  1.81303155e-02, -1.52665116e-02, -1.17086984e-01,\n",
       "       -1.01736758e-03, -2.10346188e-02,  4.54836786e-02, -1.36391670e-02,\n",
       "        2.44598500e-02,  2.51659881e-02,  2.17459295e-02, -3.75559628e-02,\n",
       "       -1.03539629e-02,  3.28562618e-03,  7.75178373e-02, -3.20931263e-02,\n",
       "       -7.48583004e-02, -3.66130983e-03, -1.38499141e-02, -2.27338984e-03,\n",
       "        1.85665637e-02, -9.59263369e-03,  3.28187272e-02, -4.81293574e-02,\n",
       "       -3.11740991e-02,  4.09937091e-02,  5.79070719e-03, -1.43972049e-02,\n",
       "        4.67697233e-02,  8.11458100e-03, -2.14635246e-02, -4.17495370e-02,\n",
       "        2.52490211e-02,  8.10360070e-03,  1.64109208e-02,  5.05118445e-02,\n",
       "        3.45522836e-02, -7.63416812e-02, -9.87690166e-02, -9.82376281e-03,\n",
       "       -6.96027605e-03, -3.60563328e-03, -5.80232218e-03, -9.21754539e-03,\n",
       "        1.12173771e-02,  7.09300349e-03, -5.63013293e-02, -1.14147915e-02,\n",
       "       -6.25405461e-02,  1.79461192e-03, -2.19654315e-03, -7.29062185e-02,\n",
       "       -3.68840173e-02,  8.84979218e-03,  1.25089260e-02, -4.92964014e-02,\n",
       "       -1.82805490e-02, -2.12599672e-02, -2.10722182e-02,  8.60942807e-03,\n",
       "       -3.41123082e-02, -1.28115984e-02,  2.00627185e-03, -4.06872742e-02,\n",
       "       -4.64650020e-02, -1.22599024e-02, -1.41541986e-02, -1.99003983e-02,\n",
       "        1.98920891e-02, -6.73872093e-03,  5.87857887e-02, -2.86255497e-02,\n",
       "       -7.98523650e-02, -5.88343255e-02, -1.18572265e-04,  2.48858090e-02,\n",
       "        7.06213899e-03, -2.96432450e-02, -8.01097229e-03, -1.47771584e-02,\n",
       "       -1.14477137e-02,  7.52777676e-04, -2.59069353e-02,  1.46403909e-05,\n",
       "       -2.84561422e-02,  5.11758290e-02, -6.03056587e-02,  2.91532860e-03,\n",
       "       -6.08376646e-03,  8.68063867e-02,  2.38675065e-02, -4.04609591e-02,\n",
       "        4.44278913e-03, -6.56413361e-02,  6.77333549e-02, -6.19496331e-02,\n",
       "        3.09004020e-02,  8.97114500e-02,  4.53706011e-02,  3.78618650e-02,\n",
       "       -9.11957864e-03, -1.15954541e-02, -1.09502897e-02, -3.41150910e-02,\n",
       "       -7.36117736e-02, -1.00887688e-02,  2.04495434e-03, -4.28157188e-02,\n",
       "        4.04097438e-02,  1.48869893e-02,  3.21036228e-03,  4.52507474e-02,\n",
       "        2.98155472e-03,  6.22741086e-03,  2.82454956e-02, -9.55037016e-04,\n",
       "        1.86641235e-02, -3.79641280e-02,  4.69806278e-03,  3.56907882e-02,\n",
       "        3.15830000e-02,  3.13245952e-02, -1.93101633e-02,  4.59238924e-02,\n",
       "        6.79889396e-02, -1.74569469e-02,  1.57514308e-02, -3.90241332e-02,\n",
       "        1.04083084e-02, -2.88345180e-02, -1.99681446e-02, -4.28557433e-02,\n",
       "       -6.71735546e-03, -6.54573068e-02, -6.93380833e-03,  8.04302003e-03,\n",
       "       -1.39098195e-02, -2.38466188e-02, -2.07606400e-03, -7.55425170e-02,\n",
       "       -2.52202526e-02,  3.93930934e-02, -1.41568314e-02, -1.42399780e-02,\n",
       "        5.10951765e-02,  1.91903710e-02,  6.19584285e-02,  3.61046307e-02,\n",
       "        4.58648503e-02,  1.37082804e-02,  9.01663117e-03, -7.04412237e-02,\n",
       "        1.39131313e-02,  7.07836705e-04,  6.10729568e-02, -8.34498033e-02,\n",
       "        1.93572938e-02,  5.06684482e-02, -2.73826048e-02, -3.92099395e-02,\n",
       "       -5.00159599e-02, -3.10192369e-02, -5.19659091e-03, -1.60666071e-02,\n",
       "        2.69148257e-02, -2.14105751e-02, -2.29712240e-02,  4.40231413e-02,\n",
       "       -1.47511465e-02,  2.03247759e-02,  2.71283346e-03, -1.06806144e-01,\n",
       "        2.56657135e-02,  1.78423766e-02, -1.11196235e-01, -2.07568426e-02,\n",
       "       -1.87601447e-02, -2.80404110e-02, -2.93774586e-02, -3.14959362e-02,\n",
       "       -5.40108196e-02,  2.15327628e-02, -4.36627902e-02,  2.29886658e-02,\n",
       "       -5.13549224e-02, -5.95284849e-02, -3.49003673e-02, -5.04309684e-03,\n",
       "        1.59643665e-02, -6.62284717e-02,  1.20069587e-03, -3.47382873e-02,\n",
       "        2.32614540e-02,  1.69205274e-02,  3.76733276e-03,  1.15845837e-01,\n",
       "        2.36065947e-02, -3.79218683e-02,  7.54992291e-02,  2.13669110e-02,\n",
       "       -5.47773466e-02, -9.71106719e-03, -3.14531736e-02, -5.74007677e-03],\n",
       "      dtype=float32)"
      ]
     },
     "execution_count": 126,
     "metadata": {},
     "output_type": "execute_result"
    }
   ],
   "source": [
    "embeddings[0]"
   ]
  },
  {
   "cell_type": "code",
   "execution_count": 125,
   "metadata": {},
   "outputs": [
    {
     "name": "stdout",
     "output_type": "stream",
     "text": [
      "(512,)\n"
     ]
    }
   ],
   "source": [
    "print(embeddings[0].shape)"
   ]
  },
  {
   "cell_type": "markdown",
   "metadata": {},
   "source": [
    "## Preparing the train and test data"
   ]
  },
  {
   "cell_type": "code",
   "execution_count": 113,
   "metadata": {},
   "outputs": [],
   "source": [
    "x=embeddings\n",
    "y=df[\"Label\"].values"
   ]
  },
  {
   "cell_type": "code",
   "execution_count": 99,
   "metadata": {},
   "outputs": [],
   "source": [
    "from sklearn.model_selection import train_test_split"
   ]
  },
  {
   "cell_type": "code",
   "execution_count": 127,
   "metadata": {},
   "outputs": [],
   "source": [
    "X_train,X_test,y_train,y_test= train_test_split(x,y,test_size=0.20,random_state=42)"
   ]
  },
  {
   "cell_type": "code",
   "execution_count": 164,
   "metadata": {},
   "outputs": [
    {
     "name": "stdout",
     "output_type": "stream",
     "text": [
      "Training set of X and y--> 4457 4457\n",
      "Test set of X and y--> 1115 1115\n"
     ]
    }
   ],
   "source": [
    "print(\"Training set of X and y-->\",len(X_train),len(y_train))\n",
    "print(\"Test set of X and y-->\",len(X_test),len(y_test))"
   ]
  },
  {
   "cell_type": "markdown",
   "metadata": {},
   "source": [
    "## Apply Classification algorithm"
   ]
  },
  {
   "cell_type": "code",
   "execution_count": 148,
   "metadata": {},
   "outputs": [],
   "source": [
    "from sklearn.svm import SVC"
   ]
  },
  {
   "cell_type": "code",
   "execution_count": 165,
   "metadata": {},
   "outputs": [],
   "source": [
    "classifier=SVC(kernel='linear')"
   ]
  },
  {
   "cell_type": "code",
   "execution_count": 166,
   "metadata": {},
   "outputs": [
    {
     "data": {
      "text/plain": [
       "SVC(C=1.0, break_ties=False, cache_size=200, class_weight=None, coef0=0.0,\n",
       "    decision_function_shape='ovr', degree=3, gamma='scale', kernel='linear',\n",
       "    max_iter=-1, probability=False, random_state=None, shrinking=True,\n",
       "    tol=0.001, verbose=False)"
      ]
     },
     "execution_count": 166,
     "metadata": {},
     "output_type": "execute_result"
    }
   ],
   "source": [
    "classifier.fit(X_train,y_train)"
   ]
  },
  {
   "cell_type": "code",
   "execution_count": 167,
   "metadata": {},
   "outputs": [],
   "source": [
    "from sklearn.metrics import accuracy_score\n",
    "from sklearn.metrics import confusion_matrix"
   ]
  },
  {
   "cell_type": "code",
   "execution_count": 168,
   "metadata": {},
   "outputs": [],
   "source": [
    "y_pred_svc=classifier.predict(X_test)"
   ]
  },
  {
   "cell_type": "code",
   "execution_count": 169,
   "metadata": {},
   "outputs": [
    {
     "data": {
      "text/plain": [
       "0.9865470852017937"
      ]
     },
     "execution_count": 169,
     "metadata": {},
     "output_type": "execute_result"
    }
   ],
   "source": [
    "accuracy_score(y_test,y_pred_svc)"
   ]
  },
  {
   "cell_type": "markdown",
   "metadata": {},
   "source": [
    "### When your dataset is imbalanaced,Confusion Matrix gives us more clearity than the accuracy matrix "
   ]
  },
  {
   "cell_type": "code",
   "execution_count": null,
   "metadata": {},
   "outputs": [],
   "source": [
    "from sklearn.metrics import confusion_matrix"
   ]
  },
  {
   "cell_type": "code",
   "execution_count": 150,
   "metadata": {},
   "outputs": [
    {
     "data": {
      "text/plain": [
       "array([[961,   5],\n",
       "       [ 10, 139]], dtype=int64)"
      ]
     },
     "execution_count": 150,
     "metadata": {},
     "output_type": "execute_result"
    }
   ],
   "source": [
    "cm=confusion_matrix(y_test,y_pred_svc)"
   ]
  },
  {
   "cell_type": "markdown",
   "metadata": {},
   "source": [
    "## Visualize the Confusion matrix "
   ]
  },
  {
   "cell_type": "code",
   "execution_count": 157,
   "metadata": {},
   "outputs": [
    {
     "data": {
      "image/png": "[encoded data removed]",
      "text/plain": [
       "<Figure size 432x288 with 2 Axes>"
      ]
     },
     "metadata": {},
     "output_type": "display_data"
    },
    {
     "name": "stdout",
     "output_type": "stream",
     "text": [
      "[[961   5]\n",
      " [ 10 139]]\n"
     ]
    }
   ],
   "source": [
    "labels = ['Ham', 'Spam']\n",
    "cm=confusion_matrix(y_test,y_pred_svc)\n",
    "fig = plt.figure()\n",
    "ax = fig.add_subplot(111)\n",
    "cax = ax.matshow(cm)\n",
    "plt.title('Confusion matrix of the classifier')\n",
    "fig.colorbar(cax)\n",
    "ax.set_xticklabels([''] + labels)\n",
    "ax.set_yticklabels([''] + labels)\n",
    "plt.xlabel('Predicted')\n",
    "plt.ylabel('True')\n",
    "plt.show()\n",
    "print(cm)"
   ]
  },
  {
   "cell_type": "markdown",
   "metadata": {},
   "source": [
    "## Predicting for new input "
   ]
  },
  {
   "cell_type": "code",
   "execution_count": 171,
   "metadata": {},
   "outputs": [],
   "source": [
    "# classifier.predict(['hey'])"
   ]
  },
  {
   "cell_type": "code",
   "execution_count": 188,
   "metadata": {},
   "outputs": [],
   "source": [
    "# We have trained our model 0 for ham and 1 for Spam\n",
    "def prediction(predict_text):\n",
    "    predict_data=Encoder.encode([predict_text])\n",
    "    if classifier.predict(predict_data)[0]>0:\n",
    "        return \"Spam\"\n",
    "    else:\n",
    "        return \"Ham\""
   ]
  },
  {
   "cell_type": "code",
   "execution_count": 205,
   "metadata": {},
   "outputs": [
    {
     "data": {
      "text/plain": [
       "'Ham'"
      ]
     },
     "execution_count": 205,
     "metadata": {},
     "output_type": "execute_result"
    }
   ],
   "source": [
    "prediction(\"Per favore, inoltrami che la presentazione sarà fine della giornata\")"
   ]
  },
  {
   "cell_type": "code",
   "execution_count": 207,
   "metadata": {},
   "outputs": [],
   "source": [
    "# sample inputs:\n",
    "# Spam:\n",
    "# English -->Click here to get the prize money.\n",
    "# Arabic-->انقر هنا للحصول على أموال الجائزة.\n",
    "# German-->Klicken Sie hier, um das Preisgeld zu erhalten.\n",
    "# Ham :\n",
    "# English-->Please forward me that presentation be end of the day\n",
    "# French-->Veuillez me faire parvenir cette présentation en fin de journée\n",
    "# Italian->Per favore, inoltrami che la presentazione sarà fine della giornata"
   ]
  },
  {
   "cell_type": "code",
   "execution_count": null,
   "metadata": {},
   "outputs": [],
   "source": []
  }
 ],
 "metadata": {
  "kernelspec": {
   "display_name": "Python 3 (ipykernel)",
   "language": "python",
   "name": "python3"
  },
  "language_info": {
   "codemirror_mode": {
    "name": "ipython",
    "version": 3
   },
   "file_extension": ".py",
   "mimetype": "text/x-python",
   "name": "python",
   "nbconvert_exporter": "python",
   "pygments_lexer": "ipython3",
   "version": "3.9.12"
  }
 },
 "nbformat": 4,
 "nbformat_minor": 2
}
