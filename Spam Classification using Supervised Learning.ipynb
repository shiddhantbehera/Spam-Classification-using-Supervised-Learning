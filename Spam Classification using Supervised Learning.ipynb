{
 "cells": [
  {
   "cell_type": "code",
   "execution_count": 2,
   "metadata": {},
   "outputs": [],
   "source": [
    "import pandas as pd\n",
    "import seaborn as sns\n",
    "import re\n",
    "import matplotlib.pyplot as plt"
   ]
  },
  {
   "cell_type": "markdown",
   "metadata": {},
   "source": [
    "## Reading the data"
   ]
  },
  {
   "cell_type": "code",
   "execution_count": 3,
   "metadata": {},
   "outputs": [],
   "source": [
    "df=pd.read_csv(\"data\",sep='\\t',names=[\"Label\",\"Message\"])"
   ]
  },
  {
   "cell_type": "markdown",
   "metadata": {},
   "source": [
    "### Exploring the data "
   ]
  },
  {
   "cell_type": "code",
   "execution_count": 4,
   "metadata": {},
   "outputs": [
    {
     "data": {
      "text/html": [
       "<div>\n",
       "<style scoped>\n",
       "    .dataframe tbody tr th:only-of-type {\n",
       "        vertical-align: middle;\n",
       "    }\n",
       "\n",
       "    .dataframe tbody tr th {\n",
       "        vertical-align: top;\n",
       "    }\n",
       "\n",
       "    .dataframe thead th {\n",
       "        text-align: right;\n",
       "    }\n",
       "</style>\n",
       "<table border=\"1\" class=\"dataframe\">\n",
       "  <thead>\n",
       "    <tr style=\"text-align: right;\">\n",
       "      <th></th>\n",
       "      <th>Label</th>\n",
       "      <th>Message</th>\n",
       "    </tr>\n",
       "  </thead>\n",
       "  <tbody>\n",
       "    <tr>\n",
       "      <th>0</th>\n",
       "      <td>ham</td>\n",
       "      <td>Go until jurong point, crazy.. Available only ...</td>\n",
       "    </tr>\n",
       "    <tr>\n",
       "      <th>1</th>\n",
       "      <td>ham</td>\n",
       "      <td>Ok lar... Joking wif u oni...</td>\n",
       "    </tr>\n",
       "    <tr>\n",
       "      <th>2</th>\n",
       "      <td>spam</td>\n",
       "      <td>Free entry in 2 a wkly comp to win FA Cup fina...</td>\n",
       "    </tr>\n",
       "    <tr>\n",
       "      <th>3</th>\n",
       "      <td>ham</td>\n",
       "      <td>U dun say so early hor... U c already then say...</td>\n",
       "    </tr>\n",
       "    <tr>\n",
       "      <th>4</th>\n",
       "      <td>ham</td>\n",
       "      <td>Nah I don't think he goes to usf, he lives aro...</td>\n",
       "    </tr>\n",
       "  </tbody>\n",
       "</table>\n",
       "</div>"
      ],
      "text/plain": [
       "  Label                                            Message\n",
       "0   ham  Go until jurong point, crazy.. Available only ...\n",
       "1   ham                      Ok lar... Joking wif u oni...\n",
       "2  spam  Free entry in 2 a wkly comp to win FA Cup fina...\n",
       "3   ham  U dun say so early hor... U c already then say...\n",
       "4   ham  Nah I don't think he goes to usf, he lives aro..."
      ]
     },
     "execution_count": 4,
     "metadata": {},
     "output_type": "execute_result"
    }
   ],
   "source": [
    "df.head()"
   ]
  },
  {
   "cell_type": "code",
   "execution_count": 5,
   "metadata": {},
   "outputs": [
    {
     "data": {
      "text/plain": [
       "array(['ham', 'spam'], dtype=object)"
      ]
     },
     "execution_count": 5,
     "metadata": {},
     "output_type": "execute_result"
    }
   ],
   "source": [
    "df.Label.unique() "
   ]
  },
  {
   "cell_type": "code",
   "execution_count": 6,
   "metadata": {},
   "outputs": [
    {
     "data": {
      "text/plain": [
       "Label      0\n",
       "Message    0\n",
       "dtype: int64"
      ]
     },
     "execution_count": 6,
     "metadata": {},
     "output_type": "execute_result"
    }
   ],
   "source": [
    "df.isnull().sum() ## checking for null values "
   ]
  },
  {
   "cell_type": "code",
   "execution_count": 7,
   "metadata": {},
   "outputs": [
    {
     "data": {
      "text/plain": [
       "<AxesSubplot: xlabel='Label', ylabel='count'>"
      ]
     },
     "execution_count": 7,
     "metadata": {},
     "output_type": "execute_result"
    },
    {
     "data": {
      "image/png": "[encoded data removed]",
      "text/plain": [
       "<Figure size 640x480 with 1 Axes>"
      ]
     },
     "metadata": {},
     "output_type": "display_data"
    }
   ],
   "source": [
    "sns.set_style('whitegrid')\n",
    "sns.countplot(x='Label',data=df)"
   ]
  },
  {
   "cell_type": "markdown",
   "metadata": {},
   "source": [
    "### Preprocessing the data "
   ]
  },
  {
   "cell_type": "code",
   "execution_count": 8,
   "metadata": {},
   "outputs": [],
   "source": [
    "def preprocessing(text):\n",
    "    \"\"\"Changing text to lowercase ,removing extra spaces and cleaning the text.\n",
    "    \"\"\"\n",
    "    text= text.lower().strip() \n",
    "    \n",
    "    text=re.sub('[^a-zA-Z]',' ',text)\n",
    "    \n",
    "    text=re.sub(' +', ' ', text)\n",
    "    return text"
   ]
  },
  {
   "cell_type": "code",
   "execution_count": 9,
   "metadata": {},
   "outputs": [],
   "source": [
    "df['Message']=df['Message'].apply(preprocessing)"
   ]
  },
  {
   "cell_type": "code",
   "execution_count": 10,
   "metadata": {},
   "outputs": [
    {
     "data": {
      "text/html": [
       "<div>\n",
       "<style scoped>\n",
       "    .dataframe tbody tr th:only-of-type {\n",
       "        vertical-align: middle;\n",
       "    }\n",
       "\n",
       "    .dataframe tbody tr th {\n",
       "        vertical-align: top;\n",
       "    }\n",
       "\n",
       "    .dataframe thead th {\n",
       "        text-align: right;\n",
       "    }\n",
       "</style>\n",
       "<table border=\"1\" class=\"dataframe\">\n",
       "  <thead>\n",
       "    <tr style=\"text-align: right;\">\n",
       "      <th></th>\n",
       "      <th>Label</th>\n",
       "      <th>Message</th>\n",
       "    </tr>\n",
       "  </thead>\n",
       "  <tbody>\n",
       "    <tr>\n",
       "      <th>0</th>\n",
       "      <td>ham</td>\n",
       "      <td>go until jurong point crazy available only in ...</td>\n",
       "    </tr>\n",
       "    <tr>\n",
       "      <th>1</th>\n",
       "      <td>ham</td>\n",
       "      <td>ok lar joking wif u oni</td>\n",
       "    </tr>\n",
       "    <tr>\n",
       "      <th>2</th>\n",
       "      <td>spam</td>\n",
       "      <td>free entry in a wkly comp to win fa cup final ...</td>\n",
       "    </tr>\n",
       "    <tr>\n",
       "      <th>3</th>\n",
       "      <td>ham</td>\n",
       "      <td>u dun say so early hor u c already then say</td>\n",
       "    </tr>\n",
       "    <tr>\n",
       "      <th>4</th>\n",
       "      <td>ham</td>\n",
       "      <td>nah i don t think he goes to usf he lives arou...</td>\n",
       "    </tr>\n",
       "  </tbody>\n",
       "</table>\n",
       "</div>"
      ],
      "text/plain": [
       "  Label                                            Message\n",
       "0   ham  go until jurong point crazy available only in ...\n",
       "1   ham                           ok lar joking wif u oni \n",
       "2  spam  free entry in a wkly comp to win fa cup final ...\n",
       "3   ham       u dun say so early hor u c already then say \n",
       "4   ham  nah i don t think he goes to usf he lives arou..."
      ]
     },
     "execution_count": 10,
     "metadata": {},
     "output_type": "execute_result"
    }
   ],
   "source": [
    "df.head()"
   ]
  },
  {
   "cell_type": "code",
   "execution_count": 11,
   "metadata": {},
   "outputs": [],
   "source": [
    "## Encoding 0 for ham and 1 for Spam"
   ]
  },
  {
   "cell_type": "code",
   "execution_count": 12,
   "metadata": {},
   "outputs": [],
   "source": [
    "from sklearn.preprocessing import LabelEncoder"
   ]
  },
  {
   "cell_type": "code",
   "execution_count": 13,
   "metadata": {},
   "outputs": [
    {
     "data": {
      "text/html": [
       "<style>#sk-container-id-1 {color: black;background-color: white;}#sk-container-id-1 pre{padding: 0;}#sk-container-id-1 div.sk-toggleable {background-color: white;}#sk-container-id-1 label.sk-toggleable__label {cursor: pointer;display: block;width: 100%;margin-bottom: 0;padding: 0.3em;box-sizing: border-box;text-align: center;}#sk-container-id-1 label.sk-toggleable__label-arrow:before {content: \"▸\";float: left;margin-right: 0.25em;color: #696969;}#sk-container-id-1 label.sk-toggleable__label-arrow:hover:before {color: black;}#sk-container-id-1 div.sk-estimator:hover label.sk-toggleable__label-arrow:before {color: black;}#sk-container-id-1 div.sk-toggleable__content {max-height: 0;max-width: 0;overflow: hidden;text-align: left;background-color: #f0f8ff;}#sk-container-id-1 div.sk-toggleable__content pre {margin: 0.2em;color: black;border-radius: 0.25em;background-color: #f0f8ff;}#sk-container-id-1 input.sk-toggleable__control:checked~div.sk-toggleable__content {max-height: 200px;max-width: 100%;overflow: auto;}#sk-container-id-1 input.sk-toggleable__control:checked~label.sk-toggleable__label-arrow:before {content: \"▾\";}#sk-container-id-1 div.sk-estimator input.sk-toggleable__control:checked~label.sk-toggleable__label {background-color: #d4ebff;}#sk-container-id-1 div.sk-label input.sk-toggleable__control:checked~label.sk-toggleable__label {background-color: #d4ebff;}#sk-container-id-1 input.sk-hidden--visually {border: 0;clip: rect(1px 1px 1px 1px);clip: rect(1px, 1px, 1px, 1px);height: 1px;margin: -1px;overflow: hidden;padding: 0;position: absolute;width: 1px;}#sk-container-id-1 div.sk-estimator {font-family: monospace;background-color: #f0f8ff;border: 1px dotted black;border-radius: 0.25em;box-sizing: border-box;margin-bottom: 0.5em;}#sk-container-id-1 div.sk-estimator:hover {background-color: #d4ebff;}#sk-container-id-1 div.sk-parallel-item::after {content: \"\";width: 100%;border-bottom: 1px solid gray;flex-grow: 1;}#sk-container-id-1 div.sk-label:hover label.sk-toggleable__label {background-color: #d4ebff;}#sk-container-id-1 div.sk-serial::before {content: \"\";position: absolute;border-left: 1px solid gray;box-sizing: border-box;top: 0;bottom: 0;left: 50%;z-index: 0;}#sk-container-id-1 div.sk-serial {display: flex;flex-direction: column;align-items: center;background-color: white;padding-right: 0.2em;padding-left: 0.2em;position: relative;}#sk-container-id-1 div.sk-item {position: relative;z-index: 1;}#sk-container-id-1 div.sk-parallel {display: flex;align-items: stretch;justify-content: center;background-color: white;position: relative;}#sk-container-id-1 div.sk-item::before, #sk-container-id-1 div.sk-parallel-item::before {content: \"\";position: absolute;border-left: 1px solid gray;box-sizing: border-box;top: 0;bottom: 0;left: 50%;z-index: -1;}#sk-container-id-1 div.sk-parallel-item {display: flex;flex-direction: column;z-index: 1;position: relative;background-color: white;}#sk-container-id-1 div.sk-parallel-item:first-child::after {align-self: flex-end;width: 50%;}#sk-container-id-1 div.sk-parallel-item:last-child::after {align-self: flex-start;width: 50%;}#sk-container-id-1 div.sk-parallel-item:only-child::after {width: 0;}#sk-container-id-1 div.sk-dashed-wrapped {border: 1px dashed gray;margin: 0 0.4em 0.5em 0.4em;box-sizing: border-box;padding-bottom: 0.4em;background-color: white;}#sk-container-id-1 div.sk-label label {font-family: monospace;font-weight: bold;display: inline-block;line-height: 1.2em;}#sk-container-id-1 div.sk-label-container {text-align: center;}#sk-container-id-1 div.sk-container {/* jupyter's `normalize.less` sets `[hidden] { display: none; }` but bootstrap.min.css set `[hidden] { display: none !important; }` so we also need the `!important` here to be able to override the default hidden behavior on the sphinx rendered scikit-learn.org. See: https://github.com/scikit-learn/scikit-learn/issues/21755 */display: inline-block !important;position: relative;}#sk-container-id-1 div.sk-text-repr-fallback {display: none;}</style><div id=\"sk-container-id-1\" class=\"sk-top-container\"><div class=\"sk-text-repr-fallback\"><pre>LabelEncoder()</pre><b>In a Jupyter environment, please rerun this cell to show the HTML representation or trust the notebook. <br />On GitHub, the HTML representation is unable to render, please try loading this page with nbviewer.org.</b></div><div class=\"sk-container\" hidden><div class=\"sk-item\"><div class=\"sk-estimator sk-toggleable\"><input class=\"sk-toggleable__control sk-hidden--visually\" id=\"sk-estimator-id-1\" type=\"checkbox\" checked><label for=\"sk-estimator-id-1\" class=\"sk-toggleable__label sk-toggleable__label-arrow\">LabelEncoder</label><div class=\"sk-toggleable__content\"><pre>LabelEncoder()</pre></div></div></div></div></div>"
      ],
      "text/plain": [
       "LabelEncoder()"
      ]
     },
     "execution_count": 13,
     "metadata": {},
     "output_type": "execute_result"
    }
   ],
   "source": [
    "LE=LabelEncoder()\n",
    "LE.fit(df[\"Label\"])"
   ]
  },
  {
   "cell_type": "code",
   "execution_count": 14,
   "metadata": {},
   "outputs": [],
   "source": [
    "df[\"Label\"]=LE.transform(df[\"Label\"])"
   ]
  },
  {
   "cell_type": "code",
   "execution_count": 15,
   "metadata": {},
   "outputs": [
    {
     "data": {
      "text/html": [
       "<div>\n",
       "<style scoped>\n",
       "    .dataframe tbody tr th:only-of-type {\n",
       "        vertical-align: middle;\n",
       "    }\n",
       "\n",
       "    .dataframe tbody tr th {\n",
       "        vertical-align: top;\n",
       "    }\n",
       "\n",
       "    .dataframe thead th {\n",
       "        text-align: right;\n",
       "    }\n",
       "</style>\n",
       "<table border=\"1\" class=\"dataframe\">\n",
       "  <thead>\n",
       "    <tr style=\"text-align: right;\">\n",
       "      <th></th>\n",
       "      <th>Label</th>\n",
       "      <th>Message</th>\n",
       "    </tr>\n",
       "  </thead>\n",
       "  <tbody>\n",
       "    <tr>\n",
       "      <th>0</th>\n",
       "      <td>0</td>\n",
       "      <td>go until jurong point crazy available only in ...</td>\n",
       "    </tr>\n",
       "    <tr>\n",
       "      <th>1</th>\n",
       "      <td>0</td>\n",
       "      <td>ok lar joking wif u oni</td>\n",
       "    </tr>\n",
       "    <tr>\n",
       "      <th>2</th>\n",
       "      <td>1</td>\n",
       "      <td>free entry in a wkly comp to win fa cup final ...</td>\n",
       "    </tr>\n",
       "    <tr>\n",
       "      <th>3</th>\n",
       "      <td>0</td>\n",
       "      <td>u dun say so early hor u c already then say</td>\n",
       "    </tr>\n",
       "    <tr>\n",
       "      <th>4</th>\n",
       "      <td>0</td>\n",
       "      <td>nah i don t think he goes to usf he lives arou...</td>\n",
       "    </tr>\n",
       "    <tr>\n",
       "      <th>...</th>\n",
       "      <td>...</td>\n",
       "      <td>...</td>\n",
       "    </tr>\n",
       "    <tr>\n",
       "      <th>5567</th>\n",
       "      <td>1</td>\n",
       "      <td>this is the nd time we have tried contact u u ...</td>\n",
       "    </tr>\n",
       "    <tr>\n",
       "      <th>5568</th>\n",
       "      <td>0</td>\n",
       "      <td>will b going to esplanade fr home</td>\n",
       "    </tr>\n",
       "    <tr>\n",
       "      <th>5569</th>\n",
       "      <td>0</td>\n",
       "      <td>pity was in mood for that so any other suggest...</td>\n",
       "    </tr>\n",
       "    <tr>\n",
       "      <th>5570</th>\n",
       "      <td>0</td>\n",
       "      <td>the guy did some bitching but i acted like i d...</td>\n",
       "    </tr>\n",
       "    <tr>\n",
       "      <th>5571</th>\n",
       "      <td>0</td>\n",
       "      <td>rofl its true to its name</td>\n",
       "    </tr>\n",
       "  </tbody>\n",
       "</table>\n",
       "<p>5572 rows × 2 columns</p>\n",
       "</div>"
      ],
      "text/plain": [
       "      Label                                            Message\n",
       "0         0  go until jurong point crazy available only in ...\n",
       "1         0                           ok lar joking wif u oni \n",
       "2         1  free entry in a wkly comp to win fa cup final ...\n",
       "3         0       u dun say so early hor u c already then say \n",
       "4         0  nah i don t think he goes to usf he lives arou...\n",
       "...     ...                                                ...\n",
       "5567      1  this is the nd time we have tried contact u u ...\n",
       "5568      0                 will b going to esplanade fr home \n",
       "5569      0  pity was in mood for that so any other suggest...\n",
       "5570      0  the guy did some bitching but i acted like i d...\n",
       "5571      0                          rofl its true to its name\n",
       "\n",
       "[5572 rows x 2 columns]"
      ]
     },
     "execution_count": 15,
     "metadata": {},
     "output_type": "execute_result"
    }
   ],
   "source": [
    "df"
   ]
  },
  {
   "cell_type": "code",
   "execution_count": 16,
   "metadata": {},
   "outputs": [
    {
     "data": {
      "text/plain": [
       "<AxesSubplot: xlabel='Label', ylabel='count'>"
      ]
     },
     "execution_count": 16,
     "metadata": {},
     "output_type": "execute_result"
    },
    {
     "data": {
      "image/png": "[encoded data removed]",
      "text/plain": [
       "<Figure size 640x480 with 1 Axes>"
      ]
     },
     "metadata": {},
     "output_type": "display_data"
    }
   ],
   "source": [
    "sns.set_style('whitegrid')\n",
    "sns.countplot(x='Label',data=df)"
   ]
  },
  {
   "cell_type": "markdown",
   "metadata": {},
   "source": [
    "### Converting messages to Embeddings"
   ]
  },
  {
   "cell_type": "code",
   "execution_count": 17,
   "metadata": {},
   "outputs": [],
   "source": [
    "from sentence_transformers import SentenceTransformer"
   ]
  },
  {
   "cell_type": "code",
   "execution_count": 18,
   "metadata": {},
   "outputs": [],
   "source": [
    "Encoder = SentenceTransformer('distiluse-base-multilingual-cased') # import the same model"
   ]
  },
  {
   "cell_type": "code",
   "execution_count": 19,
   "metadata": {},
   "outputs": [],
   "source": [
    "embeddings=Encoder.encode(df[\"Message\"]) # Encode text into vectors "
   ]
  },
  {
   "cell_type": "code",
   "execution_count": 20,
   "metadata": {},
   "outputs": [
    {
     "data": {
      "text/plain": [
       "5572"
      ]
     },
     "execution_count": 20,
     "metadata": {},
     "output_type": "execute_result"
    }
   ],
   "source": [
    "len(embeddings)"
   ]
  },
  {
   "cell_type": "code",
   "execution_count": 21,
   "metadata": {},
   "outputs": [
    {
     "data": {
      "text/plain": [
       "array([ 5.34283035e-02, -2.38686930e-02,  4.93411021e-03, -6.96249679e-03,\n",
       "        3.27754170e-02, -3.98076512e-02,  3.84433172e-03,  3.42428661e-03,\n",
       "        1.63584128e-02,  3.99502032e-02,  4.18882677e-03,  3.01990043e-02,\n",
       "       -1.37331197e-02,  2.19427589e-02,  4.93107643e-03, -3.27372663e-02,\n",
       "        2.75634192e-02, -1.84482126e-03,  2.53685960e-03, -1.72956306e-02,\n",
       "       -1.71510819e-02, -5.77042904e-03, -4.12951000e-02, -1.90557223e-02,\n",
       "        2.66342852e-02, -8.71308427e-03, -2.96995249e-02,  5.02164401e-02,\n",
       "        5.08541334e-03, -1.32683851e-02,  2.16076169e-02,  3.18137035e-02,\n",
       "        8.75919219e-03, -1.41988052e-02,  3.90086393e-03, -6.08927943e-02,\n",
       "        2.03155614e-02,  1.59705486e-02, -2.88936067e-02,  2.37819329e-02,\n",
       "        6.89164619e-04,  1.86952744e-02,  3.14723738e-02,  3.59244384e-02,\n",
       "        9.19888541e-02,  1.74739454e-02,  1.05361268e-02,  4.61963442e-04,\n",
       "       -3.89837772e-02,  2.68828310e-03,  3.12509872e-02, -4.11770307e-05,\n",
       "        9.66116507e-03,  1.46359317e-02,  1.80802606e-02,  3.38808224e-02,\n",
       "       -3.19024026e-02,  1.53236706e-02, -1.06974430e-02, -3.14730592e-03,\n",
       "        2.79624257e-02, -5.07317223e-02,  6.13078522e-03,  1.48881308e-03,\n",
       "        4.80308905e-02,  5.38221635e-02, -3.63936611e-02, -4.16814648e-02,\n",
       "        3.27163609e-03,  3.58448066e-02, -3.58399786e-02,  3.93753275e-02,\n",
       "        4.22682241e-03, -6.77479850e-03, -7.58166052e-03,  4.75076102e-02,\n",
       "       -5.67921763e-03,  4.96490486e-02,  1.30183911e-02,  3.34705748e-02,\n",
       "        5.28902449e-02, -9.68756303e-02,  1.17725022e-02, -3.09260562e-04,\n",
       "       -1.92789510e-02, -1.25497580e-02,  1.47509284e-03, -2.54589878e-03,\n",
       "        2.24142447e-02, -1.90629456e-02, -1.04578994e-02, -3.85416821e-02,\n",
       "       -9.16398391e-02, -3.67347412e-02, -5.56084998e-02, -9.67023000e-02,\n",
       "       -1.85698364e-02,  1.93389636e-02, -1.46365575e-02,  3.65609713e-02,\n",
       "        1.82303600e-04,  1.97519106e-03,  3.52775082e-02, -9.09500103e-03,\n",
       "       -3.21723074e-02, -9.21750627e-03,  4.42501530e-02, -3.06804795e-02,\n",
       "        5.53908534e-02, -1.59154069e-02,  8.36409722e-03,  4.20953408e-02,\n",
       "        2.10690461e-02,  4.87153791e-02,  4.20453176e-02, -1.69335809e-02,\n",
       "        2.58618686e-02,  3.41104418e-02,  6.68779090e-02,  5.50891794e-02,\n",
       "       -3.55872791e-03, -4.90875356e-02, -1.80509370e-02, -3.15164886e-02,\n",
       "       -1.85870286e-03, -3.43487337e-02, -1.23836417e-02, -2.92361118e-02,\n",
       "       -2.96740532e-02, -4.00747582e-02, -1.39808245e-02,  6.87128678e-03,\n",
       "       -4.75107663e-04,  1.36947995e-02, -5.91530018e-02,  3.63407028e-03,\n",
       "       -6.09779684e-03, -7.10057840e-03,  7.47045688e-03, -2.61818357e-02,\n",
       "       -4.53132391e-02, -3.99290696e-02, -9.86964442e-03,  1.25225177e-02,\n",
       "        1.96072999e-02, -1.55327574e-03, -5.02193207e-03,  2.43669674e-02,\n",
       "       -2.02856008e-02,  2.18583923e-02,  3.81454756e-03,  4.94749025e-02,\n",
       "       -2.80600935e-02,  3.58437635e-02, -2.99917329e-02,  4.04720940e-02,\n",
       "        3.79472226e-02,  2.89087128e-02,  5.18882498e-02, -3.68766458e-04,\n",
       "        4.55338322e-02, -3.76327597e-02, -5.47355227e-02,  3.45252617e-03,\n",
       "        4.27448712e-02, -3.74999531e-02, -3.32344808e-02,  1.63237769e-02,\n",
       "       -3.69258039e-02, -6.28958046e-02, -8.21533576e-02,  5.47795966e-02,\n",
       "        7.69761875e-02, -6.28179833e-02, -5.04428595e-02, -2.16291882e-02,\n",
       "        3.62314992e-02, -2.83734384e-03, -4.76419069e-02,  6.76243985e-03,\n",
       "       -4.62406781e-03, -1.13805104e-02, -1.29385656e-02,  6.53262436e-03,\n",
       "        5.89926029e-03,  2.32640393e-02,  2.05718298e-02, -4.29160632e-02,\n",
       "        7.34740421e-02,  1.60952862e-02, -1.70831643e-02, -2.58995555e-02,\n",
       "       -3.67220677e-02,  7.70059181e-03,  2.97697447e-02,  7.34748691e-03,\n",
       "       -1.51445856e-02,  2.46608388e-02,  4.49884124e-02,  3.88743728e-02,\n",
       "        1.10254129e-02, -1.12495884e-01, -4.83962633e-02,  1.49348378e-02,\n",
       "        1.53684271e-02, -4.17845249e-02, -3.26218866e-02, -1.46328015e-02,\n",
       "       -3.03604770e-02, -4.20750864e-02,  3.02343555e-02,  1.72765576e-05,\n",
       "        3.97891700e-02,  2.07840987e-02,  2.31135562e-02,  2.64767017e-02,\n",
       "       -3.10661234e-02,  2.93292794e-02,  3.69565422e-03,  6.47903234e-02,\n",
       "        3.63649838e-02, -3.28669287e-02, -3.16139460e-02,  5.63394220e-04,\n",
       "       -2.14496367e-02, -6.74726963e-02, -5.99139510e-03,  2.34590825e-02,\n",
       "       -4.86395396e-02, -1.60771422e-02,  4.60497104e-02,  6.02949224e-02,\n",
       "        1.28799239e-02, -4.72461991e-02,  1.67965237e-02, -1.92340426e-02,\n",
       "        1.84251647e-02, -5.29129431e-02,  7.41851749e-03, -5.19725643e-02,\n",
       "        2.17759106e-02, -3.13802510e-02,  6.86423015e-03, -8.91256891e-03,\n",
       "        8.80099460e-03,  8.82452633e-03, -1.43579710e-02, -2.21444629e-02,\n",
       "       -2.87406910e-02,  6.12673126e-02, -9.36772674e-03,  9.78982355e-03,\n",
       "       -9.38182604e-03, -2.36670058e-02, -7.70221371e-03, -3.63828242e-02,\n",
       "       -1.36786113e-02,  2.19972190e-02,  5.89536456e-03, -1.86584704e-02,\n",
       "       -2.71147136e-02,  1.52547266e-02,  4.39442368e-03,  1.28289806e-02,\n",
       "        3.05636413e-02, -1.06800313e-03,  1.05740288e-02,  2.19120886e-02,\n",
       "       -9.83052980e-03, -1.12462379e-02, -1.97284631e-02, -2.82882247e-02,\n",
       "        4.17200439e-02,  1.92395803e-02,  1.10499943e-02, -1.50149385e-03,\n",
       "       -5.26241213e-03, -2.76282746e-02,  2.67732888e-02,  4.73916531e-03,\n",
       "       -3.88085544e-02, -3.06236669e-02, -4.31014737e-03,  1.75448526e-02,\n",
       "       -3.66333546e-03, -4.39697271e-03, -6.73753303e-03,  1.81331243e-02,\n",
       "        2.55296053e-03, -4.32164334e-02, -2.88313311e-02, -1.39929140e-02,\n",
       "        1.66784879e-02,  2.79657752e-03,  1.59983430e-02,  2.45377868e-02,\n",
       "        1.96172763e-02,  3.25627662e-02,  2.45495569e-02, -5.62337004e-02,\n",
       "       -4.91352305e-02, -3.01388055e-02, -2.08805166e-02, -3.02541070e-03,\n",
       "       -3.97699401e-02, -3.74608226e-02, -3.75150554e-02,  2.38990616e-02,\n",
       "       -1.79339405e-02,  2.41700858e-02,  8.05817544e-05, -6.76766783e-02,\n",
       "        2.52289809e-02, -2.32607424e-02,  3.24947909e-02,  1.12459892e-02,\n",
       "       -1.60175172e-04,  1.90163571e-02,  1.93366427e-02, -1.45306662e-02,\n",
       "       -1.41666196e-02, -1.15266675e-03,  6.16882928e-02, -2.58143637e-02,\n",
       "       -5.88604696e-02, -3.52378488e-02, -3.31762508e-02, -1.38302306e-02,\n",
       "        2.06332933e-02, -1.69784781e-02,  8.64754803e-03, -5.59509806e-02,\n",
       "       -2.41234582e-02,  3.63304801e-02,  4.57644043e-03, -1.28355976e-02,\n",
       "        2.15567630e-02,  3.71777592e-03, -1.17337257e-02, -4.30045687e-02,\n",
       "        3.03655546e-02, -3.29897576e-03,  1.22694913e-02,  3.43589373e-02,\n",
       "        4.29416336e-02, -5.40267266e-02, -7.22419992e-02,  1.18093546e-02,\n",
       "       -1.84629206e-03, -6.98097050e-03, -1.82528223e-03,  8.61655455e-03,\n",
       "        1.38660427e-03,  1.35746330e-03, -1.97541416e-02, -2.28562355e-02,\n",
       "       -3.48577537e-02, -7.46913138e-04, -1.37664340e-02, -5.22032902e-02,\n",
       "       -3.24283279e-02, -7.48188235e-03,  1.60965137e-02, -3.09729502e-02,\n",
       "       -3.29350084e-02,  4.51489352e-03,  1.19156903e-02,  1.79484934e-02,\n",
       "       -1.86982900e-02, -1.72506180e-02, -9.63615254e-03, -3.69154774e-02,\n",
       "       -3.25890891e-02, -8.47886223e-03, -2.48009171e-02, -3.40457708e-02,\n",
       "       -1.16492750e-03, -1.05567286e-02,  5.06710820e-02, -1.49161071e-02,\n",
       "       -6.19468428e-02, -3.42599042e-02,  8.13546218e-03,  2.02036500e-02,\n",
       "        1.81224030e-02, -3.40188481e-02, -1.65631007e-02, -8.11827835e-03,\n",
       "       -3.50371795e-03,  2.96654063e-03, -2.37344150e-02,  2.14318410e-02,\n",
       "       -3.49256583e-02,  4.28757966e-02, -4.31300215e-02,  1.23384763e-02,\n",
       "        4.76934452e-04,  6.01368882e-02,  1.39039969e-02, -2.76410133e-02,\n",
       "        1.09024234e-02, -3.38182226e-02,  5.59624992e-02, -4.03011069e-02,\n",
       "        7.16097793e-03,  6.97152168e-02,  2.52975747e-02,  1.54432803e-02,\n",
       "        8.98584491e-04, -5.04505821e-03, -7.05610355e-03, -1.54347457e-02,\n",
       "       -3.65176536e-02, -1.30251320e-02,  4.04935936e-03, -4.98118252e-02,\n",
       "        4.85349074e-02,  1.82348024e-02,  3.45674343e-02,  3.15404944e-02,\n",
       "        6.70660054e-03,  6.30324939e-03,  3.48331779e-02, -3.65485623e-03,\n",
       "       -2.18105712e-03, -3.14225778e-02, -1.95911936e-02,  3.97893488e-02,\n",
       "        2.09877286e-02,  1.66594237e-02, -2.67161839e-02,  4.53900695e-02,\n",
       "        6.81638420e-02,  8.34461674e-03, -2.50650570e-04, -3.60532142e-02,\n",
       "        2.78670955e-02, -3.38943936e-02, -2.42625456e-02, -2.35352293e-02,\n",
       "       -1.72477420e-02, -4.00155075e-02, -1.70816034e-02,  9.09256563e-03,\n",
       "       -1.22144837e-02, -1.93934925e-02, -1.48663921e-02, -4.36411425e-02,\n",
       "       -1.18237268e-02,  3.79384570e-02, -1.05434489e-02, -1.43692307e-02,\n",
       "        4.36440110e-02,  1.93351638e-02,  5.99764138e-02,  8.37336760e-03,\n",
       "        5.16247377e-02,  1.11358836e-02,  1.15093878e-02, -5.23672737e-02,\n",
       "        7.37645011e-03,  4.55258414e-05,  5.09849824e-02, -5.82568608e-02,\n",
       "        2.05021119e-03,  5.36050759e-02, -1.96590722e-02, -3.33735570e-02,\n",
       "       -3.28296721e-02, -4.41911891e-02, -1.91409066e-02, -3.27402502e-02,\n",
       "       -1.32022491e-02, -1.51456399e-02, -8.08449928e-03,  3.44775133e-02,\n",
       "       -2.38036294e-03,  1.23846736e-02, -4.56862058e-03, -8.43469128e-02,\n",
       "        2.71010175e-02,  1.09037887e-02, -8.54415670e-02, -2.18952484e-02,\n",
       "        5.79904485e-03, -5.39812483e-02, -1.48851052e-02, -3.40229012e-02,\n",
       "       -3.67561914e-02,  1.60617307e-02, -2.18867660e-02,  1.92903355e-02,\n",
       "       -4.51027937e-02, -3.86797786e-02, -1.85325164e-02,  4.35734820e-03,\n",
       "        1.76787507e-02, -5.01137748e-02,  1.04403580e-02, -1.50214992e-02,\n",
       "        1.51195033e-02,  2.58024014e-03,  1.94463634e-03,  8.08285773e-02,\n",
       "        2.34038942e-02, -4.20720205e-02,  5.11886440e-02,  1.09348763e-02,\n",
       "       -5.62252067e-02, -2.01943778e-02, -3.62169705e-02, -8.41070246e-03],\n",
       "      dtype=float32)"
      ]
     },
     "execution_count": 21,
     "metadata": {},
     "output_type": "execute_result"
    }
   ],
   "source": [
    "embeddings[0]"
   ]
  },
  {
   "cell_type": "code",
   "execution_count": 22,
   "metadata": {},
   "outputs": [
    {
     "name": "stdout",
     "output_type": "stream",
     "text": [
      "(512,)\n"
     ]
    }
   ],
   "source": [
    "print(embeddings[0].shape)"
   ]
  },
  {
   "cell_type": "markdown",
   "metadata": {},
   "source": [
    "## Preparing the train and test data"
   ]
  },
  {
   "cell_type": "code",
   "execution_count": 23,
   "metadata": {},
   "outputs": [],
   "source": [
    "x=embeddings\n",
    "y=df[\"Label\"].values"
   ]
  },
  {
   "cell_type": "code",
   "execution_count": 24,
   "metadata": {},
   "outputs": [],
   "source": [
    "from sklearn.model_selection import train_test_split"
   ]
  },
  {
   "cell_type": "code",
   "execution_count": 25,
   "metadata": {},
   "outputs": [],
   "source": [
    "X_train,X_test,y_train,y_test= train_test_split(x,y,test_size=0.20,random_state=42)"
   ]
  },
  {
   "cell_type": "code",
   "execution_count": 26,
   "metadata": {},
   "outputs": [
    {
     "name": "stdout",
     "output_type": "stream",
     "text": [
      "Training set of X and y--> 4457 4457\n",
      "Test set of X and y--> 1115 1115\n"
     ]
    }
   ],
   "source": [
    "print(\"Training set of X and y-->\",len(X_train),len(y_train))\n",
    "print(\"Test set of X and y-->\",len(X_test),len(y_test))"
   ]
  },
  {
   "cell_type": "markdown",
   "metadata": {},
   "source": [
    "## Apply Classification algorithm"
   ]
  },
  {
   "cell_type": "code",
   "execution_count": 27,
   "metadata": {},
   "outputs": [],
   "source": [
    "from sklearn.svm import SVC"
   ]
  },
  {
   "cell_type": "code",
   "execution_count": 28,
   "metadata": {},
   "outputs": [],
   "source": [
    "classifier=SVC(kernel='linear')"
   ]
  },
  {
   "cell_type": "code",
   "execution_count": 29,
   "metadata": {},
   "outputs": [
    {
     "data": {
      "text/html": [
       "<style>#sk-container-id-2 {color: black;background-color: white;}#sk-container-id-2 pre{padding: 0;}#sk-container-id-2 div.sk-toggleable {background-color: white;}#sk-container-id-2 label.sk-toggleable__label {cursor: pointer;display: block;width: 100%;margin-bottom: 0;padding: 0.3em;box-sizing: border-box;text-align: center;}#sk-container-id-2 label.sk-toggleable__label-arrow:before {content: \"▸\";float: left;margin-right: 0.25em;color: #696969;}#sk-container-id-2 label.sk-toggleable__label-arrow:hover:before {color: black;}#sk-container-id-2 div.sk-estimator:hover label.sk-toggleable__label-arrow:before {color: black;}#sk-container-id-2 div.sk-toggleable__content {max-height: 0;max-width: 0;overflow: hidden;text-align: left;background-color: #f0f8ff;}#sk-container-id-2 div.sk-toggleable__content pre {margin: 0.2em;color: black;border-radius: 0.25em;background-color: #f0f8ff;}#sk-container-id-2 input.sk-toggleable__control:checked~div.sk-toggleable__content {max-height: 200px;max-width: 100%;overflow: auto;}#sk-container-id-2 input.sk-toggleable__control:checked~label.sk-toggleable__label-arrow:before {content: \"▾\";}#sk-container-id-2 div.sk-estimator input.sk-toggleable__control:checked~label.sk-toggleable__label {background-color: #d4ebff;}#sk-container-id-2 div.sk-label input.sk-toggleable__control:checked~label.sk-toggleable__label {background-color: #d4ebff;}#sk-container-id-2 input.sk-hidden--visually {border: 0;clip: rect(1px 1px 1px 1px);clip: rect(1px, 1px, 1px, 1px);height: 1px;margin: -1px;overflow: hidden;padding: 0;position: absolute;width: 1px;}#sk-container-id-2 div.sk-estimator {font-family: monospace;background-color: #f0f8ff;border: 1px dotted black;border-radius: 0.25em;box-sizing: border-box;margin-bottom: 0.5em;}#sk-container-id-2 div.sk-estimator:hover {background-color: #d4ebff;}#sk-container-id-2 div.sk-parallel-item::after {content: \"\";width: 100%;border-bottom: 1px solid gray;flex-grow: 1;}#sk-container-id-2 div.sk-label:hover label.sk-toggleable__label {background-color: #d4ebff;}#sk-container-id-2 div.sk-serial::before {content: \"\";position: absolute;border-left: 1px solid gray;box-sizing: border-box;top: 0;bottom: 0;left: 50%;z-index: 0;}#sk-container-id-2 div.sk-serial {display: flex;flex-direction: column;align-items: center;background-color: white;padding-right: 0.2em;padding-left: 0.2em;position: relative;}#sk-container-id-2 div.sk-item {position: relative;z-index: 1;}#sk-container-id-2 div.sk-parallel {display: flex;align-items: stretch;justify-content: center;background-color: white;position: relative;}#sk-container-id-2 div.sk-item::before, #sk-container-id-2 div.sk-parallel-item::before {content: \"\";position: absolute;border-left: 1px solid gray;box-sizing: border-box;top: 0;bottom: 0;left: 50%;z-index: -1;}#sk-container-id-2 div.sk-parallel-item {display: flex;flex-direction: column;z-index: 1;position: relative;background-color: white;}#sk-container-id-2 div.sk-parallel-item:first-child::after {align-self: flex-end;width: 50%;}#sk-container-id-2 div.sk-parallel-item:last-child::after {align-self: flex-start;width: 50%;}#sk-container-id-2 div.sk-parallel-item:only-child::after {width: 0;}#sk-container-id-2 div.sk-dashed-wrapped {border: 1px dashed gray;margin: 0 0.4em 0.5em 0.4em;box-sizing: border-box;padding-bottom: 0.4em;background-color: white;}#sk-container-id-2 div.sk-label label {font-family: monospace;font-weight: bold;display: inline-block;line-height: 1.2em;}#sk-container-id-2 div.sk-label-container {text-align: center;}#sk-container-id-2 div.sk-container {/* jupyter's `normalize.less` sets `[hidden] { display: none; }` but bootstrap.min.css set `[hidden] { display: none !important; }` so we also need the `!important` here to be able to override the default hidden behavior on the sphinx rendered scikit-learn.org. See: https://github.com/scikit-learn/scikit-learn/issues/21755 */display: inline-block !important;position: relative;}#sk-container-id-2 div.sk-text-repr-fallback {display: none;}</style><div id=\"sk-container-id-2\" class=\"sk-top-container\"><div class=\"sk-text-repr-fallback\"><pre>SVC(kernel=&#x27;linear&#x27;)</pre><b>In a Jupyter environment, please rerun this cell to show the HTML representation or trust the notebook. <br />On GitHub, the HTML representation is unable to render, please try loading this page with nbviewer.org.</b></div><div class=\"sk-container\" hidden><div class=\"sk-item\"><div class=\"sk-estimator sk-toggleable\"><input class=\"sk-toggleable__control sk-hidden--visually\" id=\"sk-estimator-id-2\" type=\"checkbox\" checked><label for=\"sk-estimator-id-2\" class=\"sk-toggleable__label sk-toggleable__label-arrow\">SVC</label><div class=\"sk-toggleable__content\"><pre>SVC(kernel=&#x27;linear&#x27;)</pre></div></div></div></div></div>"
      ],
      "text/plain": [
       "SVC(kernel='linear')"
      ]
     },
     "execution_count": 29,
     "metadata": {},
     "output_type": "execute_result"
    }
   ],
   "source": [
    "classifier.fit(X_train,y_train)"
   ]
  },
  {
   "cell_type": "code",
   "execution_count": 30,
   "metadata": {},
   "outputs": [],
   "source": [
    "from sklearn.metrics import accuracy_score\n",
    "from sklearn.metrics import confusion_matrix"
   ]
  },
  {
   "cell_type": "code",
   "execution_count": 31,
   "metadata": {},
   "outputs": [],
   "source": [
    "y_pred_svc=classifier.predict(X_test)"
   ]
  },
  {
   "cell_type": "code",
   "execution_count": 32,
   "metadata": {},
   "outputs": [
    {
     "data": {
      "text/plain": [
       "0.9838565022421525"
      ]
     },
     "execution_count": 32,
     "metadata": {},
     "output_type": "execute_result"
    }
   ],
   "source": [
    "accuracy_score(y_test,y_pred_svc)"
   ]
  },
  {
   "cell_type": "markdown",
   "metadata": {},
   "source": [
    "### When your dataset is imbalanaced,Matrix gives us more clearity than the accuracy matrix "
   ]
  },
  {
   "cell_type": "code",
   "execution_count": 33,
   "metadata": {},
   "outputs": [],
   "source": [
    "from sklearn.metrics import confusion_matrix"
   ]
  },
  {
   "cell_type": "code",
   "execution_count": 34,
   "metadata": {},
   "outputs": [],
   "source": [
    "cm=confusion_matrix(y_test,y_pred_svc)"
   ]
  },
  {
   "cell_type": "markdown",
   "metadata": {},
   "source": [
    "## Visualize the matrix "
   ]
  },
  {
   "cell_type": "code",
   "execution_count": 35,
   "metadata": {},
   "outputs": [
    {
     "name": "stderr",
     "output_type": "stream",
     "text": [
      "C:\\Users\\shidd\\AppData\\Local\\Temp\\ipykernel_8956\\2139991391.py:8: UserWarning: FixedFormatter should only be used together with FixedLocator\n",
      "  ax.set_xticklabels([''] + labels)\n",
      "C:\\Users\\shidd\\AppData\\Local\\Temp\\ipykernel_8956\\2139991391.py:9: UserWarning: FixedFormatter should only be used together with FixedLocator\n",
      "  ax.set_yticklabels([''] + labels)\n"
     ]
    },
    {
     "data": {
      "image/png": "[encoded data removed]",
      "text/plain": [
       "<Figure size 640x480 with 2 Axes>"
      ]
     },
     "metadata": {},
     "output_type": "display_data"
    },
    {
     "name": "stdout",
     "output_type": "stream",
     "text": [
      "[[960   6]\n",
      " [ 12 137]]\n"
     ]
    }
   ],
   "source": [
    "labels = ['Ham', 'Spam']\n",
    "cm=confusion_matrix(y_test,y_pred_svc)\n",
    "fig = plt.figure()\n",
    "ax = fig.add_subplot(111)\n",
    "cax = ax.matshow(cm)\n",
    "plt.title('Confusion matrix of the classifier')\n",
    "fig.colorbar(cax)\n",
    "ax.set_xticklabels([''] + labels)\n",
    "ax.set_yticklabels([''] + labels)\n",
    "plt.xlabel('Predicted')\n",
    "plt.ylabel('True')\n",
    "plt.show()\n",
    "print(cm)"
   ]
  },
  {
   "cell_type": "markdown",
   "metadata": {},
   "source": [
    "## Predicting for new input "
   ]
  },
  {
   "cell_type": "code",
   "execution_count": 36,
   "metadata": {},
   "outputs": [],
   "source": [
    "# We have trained our model 0 for ham and 1 for Spam\n",
    "def prediction(predict_text):\n",
    "    predict_data=Encoder.encode([predict_text])\n",
    "    if classifier.predict(predict_data)[0]>0:\n",
    "        return \"Spam\"\n",
    "    else:\n",
    "        return \"Ham\""
   ]
  },
  {
   "cell_type": "code",
   "execution_count": 37,
   "metadata": {},
   "outputs": [
    {
     "data": {
      "text/plain": [
       "'Ham'"
      ]
     },
     "execution_count": 37,
     "metadata": {},
     "output_type": "execute_result"
    }
   ],
   "source": [
    "prediction(\"Klicken Sie hier, um das Preisgeld zu erhalten\")"
   ]
  }
 ],
 "metadata": {
  "kernelspec": {
   "display_name": "Python 3.10.7 64-bit (microsoft store)",
   "language": "python",
   "name": "python3"
  },
  "language_info": {
   "codemirror_mode": {
    "name": "ipython",
    "version": 3
   },
   "file_extension": ".py",
   "mimetype": "text/x-python",
   "name": "python",
   "nbconvert_exporter": "python",
   "pygments_lexer": "ipython3",
   "version": "3.10.7"
  },
  "vscode": {
   "interpreter": {
    "hash": "c30cd2d0325d089ff6788713f2d654ce23a9b55deae68ef3376354791fd568b2"
   }
  }
 },
 "nbformat": 4,
 "nbformat_minor": 2
}
